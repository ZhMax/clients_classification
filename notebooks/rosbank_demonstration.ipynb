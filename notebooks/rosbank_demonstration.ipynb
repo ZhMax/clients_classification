{
 "cells": [
  {
   "cell_type": "markdown",
   "metadata": {},
   "source": [
    "# Quick start with the Rosbank dataset as an example"
   ]
  },
  {
   "cell_type": "markdown",
   "metadata": {},
   "source": [
    "This notebook is to show how to use <b>the DUE model</b> combining fully contected ResNet and Gaussian process in order to make predictions based on dataset consisting of embeddings provided by <i>the PCA method</i>. <br>\n",
    "The embeddings correspond to features of clients from the <b>Rosbank</b> dataset. The features are obtained by aggregation of transaction history of each client.  <br>\n",
    "The embeddings and targets are stored in separate files with `.parquet` extension.  \n",
    "\n",
    "The main parts of the notebook are following:\n",
    "* Classifier initialization using configuration files.\n",
    "\n",
    "* Splitting the original dataset on train and validation parts. Training the model on the train dataset and check metrics on the validation dataset.\n",
    "\n",
    "* Filtration the original dataset using <i> the forgetting method</i>.\n",
    "    - Search examples with noisy labels by <i> the forgetting method </i>. At this step the model is trained on overall examples of the dataset to compute forgetting statistics of each example during training. This statistics allow one to calculate a number of epochs in which each example of dataset was forgotten. If an example is unlearned during the training procedure its forgetting counts are equal to the total number of epochs. The unlearned examples are excluded from the dataset, as it is assumed that among the unlearned examples there are a lot of examples with incorrect labels. \n",
    "    - Splitting the dataset with excluded examples on train and validation parts. Training the model and check metrics.<br>\n",
    "<br>\n",
    "* Filtration the original dataset using <i>the second-split forgetting method</i>.\n",
    "    - Search examples with noisy labels by <i>the second-split forgetting method</i>. In this method the original dataset is splitted into two parts.\n",
    "    Initially the model is trained based on examples from the first part. Then the train of the model is continued using examples from the second part. The examples, which after the first epoch on the second step are forgotten forever, are proposed to be excluded from the second part. The same procedure is repeated in reverse order to find noisy examples in the first part of the dataset.\n",
    "    - Splitting the dataset with excluded examples on train and validation parts. Training the model and check metrics.<br>\n",
    "<br>\n",
    "* Predicting labels of examples using model loaded from a `.ckpt` file.  "
   ]
  },
  {
   "cell_type": "markdown",
   "metadata": {},
   "source": [
    "### Import necessary libraries"
   ]
  },
  {
   "cell_type": "markdown",
   "metadata": {},
   "source": [
    "Main class for creation the classifier is `DueClassifier`. The object of this class contain all necessary methods to train the Due model and obtain name of files for excluding."
   ]
  },
  {
   "cell_type": "code",
   "execution_count": 2,
   "metadata": {},
   "outputs": [
    {
     "name": "stderr",
     "output_type": "stream",
     "text": [
      "/opt/conda/lib/python3.7/site-packages/tqdm/auto.py:22: TqdmWarning: IProgress not found. Please update jupyter and ipywidgets. See https://ipywidgets.readthedocs.io/en/stable/user_install.html\n",
      "  from .autonotebook import tqdm as notebook_tqdm\n"
     ]
    }
   ],
   "source": [
    "import sys\n",
    "import numpy as np\n",
    "import pandas as pd\n",
    "\n",
    "import matplotlib.pyplot as plt\n",
    "plt.rcParams.update({'font.size': 16})\n",
    "\n",
    "from prcskr.filtration_classification.main import FilteredClassifier\n",
    "\n",
    "from sklearn.metrics import (\n",
    "    accuracy_score,\n",
    "    recall_score,\n",
    "    roc_auc_score,\n",
    "    precision_recall_curve,\n",
    "    auc\n",
    ")"
   ]
  },
  {
   "cell_type": "markdown",
   "metadata": {},
   "source": [
    "### 1. Classifier initialization"
   ]
  },
  {
   "cell_type": "markdown",
   "metadata": {},
   "source": [
    "All parameters to initialize the Due model and training procedure are given by `.yml` configs files. <i>The data configuration file</i> contains information for initialization PyTorch dataloader. <i>The model configuration file</i> contains parameters for initialziation the Due Model, and also some parameters of the training procedure. <br> \n",
    "\n",
    "Logs of the training procedure are collected in a `log_dir` directory. <br>\n",
    "Checkpoints obtained during the training are collected in a `ckpt_dir`. Only checkpoints corresponding at the current epoch and the epoch with best metrics for the validation dataset (or the training dataset if the validation dataset is absent) are saved."
   ]
  },
  {
   "cell_type": "code",
   "execution_count": 3,
   "metadata": {},
   "outputs": [],
   "source": [
    "log_dir = '../data/rosbank/logs'\n",
    "ckpt_dir = '../data/rosbank/ckpts'\n",
    "\n",
    "path_to_dataconf = '../srcprcskr/configs/data/data_config_rosbank_demonstration.yml'\n",
    "path_to_modelconf = '../srcprcskr/configs/models/model_config_rosbank_demonstration.yml'\n",
    "\n",
    "run_name = 'rosbank_notebook'\n",
    "\n",
    "classifier = FilteredClassifier(\n",
    "    run_name = run_name,\n",
    "    log_dir=log_dir, \n",
    "    ckpt_dir=ckpt_dir,\n",
    "    path_to_dataconf=path_to_dataconf,\n",
    "    path_to_modelconf=path_to_modelconf\n",
    ")"
   ]
  },
  {
   "cell_type": "markdown",
   "metadata": {},
   "source": [
    "### 2. Train the model on the original dataset"
   ]
  },
  {
   "cell_type": "markdown",
   "metadata": {},
   "source": [
    "To train the model, the method `fit` is used. The path to the dataset is given by `data_filepath` argument. The argument `split_frac_train_val` determines the fraction of the train part from the original dataset. If `split_frac_train_val` is equal 1.0, only train dataset is used. "
   ]
  },
  {
   "cell_type": "code",
   "execution_count": null,
   "metadata": {},
   "outputs": [],
   "source": [
    "features_path = '../data/rosbank/rosbank_dataset/train_part/rosbank_pca_embeddings.parquet'\n",
    "targets_path = '../data/rosbank/rosbank_dataset/train_part/rosbank_targets.parquet'\n",
    "split_frac_train_val = 0.9\n",
    "\n",
    "classifier.fit(\n",
    "    features_path=features_path,\n",
    "    targets_path=targets_path,\n",
    "    split_frac_train_val=split_frac_train_val\n",
    ")"
   ]
  },
  {
   "cell_type": "markdown",
   "metadata": {},
   "source": [
    "```\n",
    "Metrics for the validation dataset:\n",
    "{'acc_score': 0.68, 'recall_score': 0.4502923976608187, 'roc_auc_score': 0.6426879624389528, 'pr_auc_score': 0.5728869482061277}\n",
    "```"
   ]
  },
  {
   "cell_type": "code",
   "execution_count": 4,
   "metadata": {},
   "outputs": [
    {
     "name": "stdout",
     "output_type": "stream",
     "text": [
      "random state is specified from config as 10\n"
     ]
    },
    {
     "name": "stderr",
     "output_type": "stream",
     "text": [
      "100%|██████████| 4/4 [00:00<00:00,  6.80it/s]\n"
     ]
    }
   ],
   "source": [
    "features_path = '../data/rosbank/rosbank_dataset/test_part/rosbank_pca_embeddings.parquet'\n",
    "targets_path = '../data/rosbank/rosbank_dataset/test_part/rosbank_targets.parquet'\n",
    "ckpt_resume = '../data/rosbank/ckpts/rosbank_notebook_fit/epoch: 0048 - acc_score: 0.6711 - recall_score: 0.5029 - roc_auc_score: 0.6663 - pr_auc_score: 0.6135 - loss: 0.6122.ckpt'\n",
    "preds_proba, uncertainties, file_names, true_labels = classifier.predict(\n",
    "    features_path=features_path,\n",
    "    targets_path=targets_path,\n",
    "    ckpt_resume=ckpt_resume\n",
    ")"
   ]
  },
  {
   "cell_type": "code",
   "execution_count": 5,
   "metadata": {},
   "outputs": [
    {
     "name": "stdout",
     "output_type": "stream",
     "text": [
      "acc: 0.694, recall: 0.713, roc_auc: 0.669, precision_recall 0.778\n"
     ]
    }
   ],
   "source": [
    "preds_labels = np.argmax(preds_proba, axis=1)\n",
    "preds_proba_pos = np.max(preds_proba, axis=1)\n",
    "\n",
    "acc_eval = accuracy_score(true_labels, preds_labels)\n",
    "recall_eval = recall_score(true_labels, preds_labels)\n",
    "rocauc_eval = roc_auc_score(true_labels, preds_proba_pos)\n",
    "\n",
    "precision_eval, recall_evall, _ = precision_recall_curve(true_labels, preds_proba_pos)\n",
    "pr_recall_auc = auc(recall_evall, precision_eval)\n",
    "\n",
    "print(f'acc: {acc_eval:.3f}, recall: {recall_eval:.3f}, roc_auc: {rocauc_eval:.3f}, precision_recall {pr_recall_auc:.3f}')"
   ]
  },
  {
   "cell_type": "markdown",
   "metadata": {},
   "source": [
    "As the predictions of the Due model are determined by the Monte-Carlo method, new predictions of the model are slightly changed."
   ]
  },
  {
   "cell_type": "code",
   "execution_count": 4,
   "metadata": {},
   "outputs": [
    {
     "name": "stdout",
     "output_type": "stream",
     "text": [
      "random state is specified from config as 10\n",
      "total epochs is specified from config as 120\n",
      "lr is specified from config as 0.001\n",
      "Checkpoint for the last epoch: /home/storage/projects/sber_project_priceseekers/ckpt_due_rosbank_example/rosbank_notebook_fit/epoch: 0120 - acc_score: 0.6755 - roc_auc_score: 0.6676 - loss: 0.5373.ckpt\n",
      "/home/storage/projects/sber_project_priceseekers/ckpt_due_rosbank_example/rosbank_notebook_fit/epoch: 0120 - acc_score: 0.6755 - roc_auc_score: 0.6676 - loss: 0.5373.ckpt\n"
     ]
    },
    {
     "name": "stderr",
     "output_type": "stream",
     "text": [
      "100%|██████████| 5/5 [00:01<00:00,  4.51it/s]"
     ]
    },
    {
     "name": "stdout",
     "output_type": "stream",
     "text": [
      "Metrics for the validation dataset:\n",
      "{'acc_score': 0.6772046589018302, 'roc_auc_score': 0.6696227929373997}\n"
     ]
    },
    {
     "name": "stderr",
     "output_type": "stream",
     "text": [
      "\n"
     ]
    }
   ],
   "source": [
    "features_path = '/home/storage/priceseekers/data/rosbank/rosbank_dataset/train_part/rosbank_pca_embeddings.parquet'\n",
    "targets_path = '/home/storage/priceseekers/data/rosbank/rosbank_dataset/train_part/rosbank_targets.parquet'\n",
    "ckpt_resume = '/home/storage/projects/sber_project_priceseekers/ckpt_due_rosbank_example/rosbank_notebook_fit/epoch: 0120 - acc_score: 0.6755 - roc_auc_score: 0.6676 - loss: 0.5373.ckpt'\n",
    "split_frac_train_val = 0.8\n",
    "classifier.fit(\n",
    "    features_path=features_path,\n",
    "    targets_path=targets_path,\n",
    "    split_frac_train_val=split_frac_train_val,\n",
    "    ckpt_resume=ckpt_resume\n",
    ")"
   ]
  },
  {
   "cell_type": "markdown",
   "metadata": {},
   "source": [
    "### 3. Filtration the dataset through the forgetting method"
   ]
  },
  {
   "cell_type": "markdown",
   "metadata": {},
   "source": [
    "#### 3.1 Search the examples for excluding"
   ]
  },
  {
   "cell_type": "markdown",
   "metadata": {},
   "source": [
    "To find the noisy examples by computing forgetting statistics during training of the model, the `filtration_by_forgetting` method is proposed. <br>\n",
    "As a result, the array of file names for excluding is saved in a `.txt` file. Further this file can be used to exclude examples from the original dataset for training the model. Also, the method returns `pd.DataFrame`, which contains forgetting counts for each examples, as well as the predictions given by the trained model."
   ]
  },
  {
   "cell_type": "code",
   "execution_count": null,
   "metadata": {},
   "outputs": [],
   "source": [
    "log_dir = '../data/rosbank/logs'\n",
    "ckpt_dir = '../data/rosbank/ckpts'\n",
    "\n",
    "path_to_dataconf = '../srcprcskr/configs/data/data_config_rosbank_demonstration.yml'\n",
    "path_to_modelconf = '../srcprcskr/configs/models/model_config_rosbank_demonstration.yml'\n",
    "\n",
    "run_name = 'rosbank_notebook'\n",
    "\n",
    "classifier = FilteredClassifier(\n",
    "    run_name = run_name,\n",
    "    log_dir=log_dir, \n",
    "    ckpt_dir=ckpt_dir,\n",
    "    path_to_dataconf=path_to_dataconf,\n",
    "    path_to_modelconf=path_to_modelconf\n",
    ")"
   ]
  },
  {
   "cell_type": "code",
   "execution_count": null,
   "metadata": {},
   "outputs": [],
   "source": [
    "features_path = '../data/rosbank/rosbank_dataset/train_part/rosbank_pca_embeddings.parquet'\n",
    "targets_path = '../data/rosbank/rosbank_dataset/train_part/rosbank_targets.parquet'\n",
    "\n",
    "df_examples_forgetting_info = classifier.filtration_by_forgetting(\n",
    "    features_path=features_path,\n",
    "    targets_path=targets_path,\n",
    ")"
   ]
  },
  {
   "cell_type": "markdown",
   "metadata": {},
   "source": [
    "```\n",
    "Number of examples to exclude: 80\n",
    "Examples forgetting stats are saved in ../data/rosbank/rosbank_dataset/train_part/rosbank_forgetting/rosbank_forgetting_stats.csv\n",
    "Examples for excluding are saved in ../data/rosbank/rosbank_dataset/train_part/rosbank_forgetting/rosbank_examples_to_be_excluded.txt\n",
    "Corrected labels are saved in ../data/rosbank/rosbank_dataset/train_part/rosbank_targets_corrected_by_forgetting.parquet\n",
    "```"
   ]
  },
  {
   "cell_type": "markdown",
   "metadata": {},
   "source": [
    "We can load the model and masks required to find examples with noisy labels from a `*.ckpt` file. <br> \n",
    "It is only required that the `run_name` will be the same as in the training of the model."
   ]
  },
  {
   "cell_type": "code",
   "execution_count": 4,
   "metadata": {},
   "outputs": [
    {
     "name": "stdout",
     "output_type": "stream",
     "text": [
      "random state is specified from config as 10\n",
      "total epochs is specified from config as 360\n",
      "lr is specified from config as 0.0005\n"
     ]
    },
    {
     "name": "stderr",
     "output_type": "stream",
     "text": [
      "  0%|          | 0/36 [00:00<?, ?it/s]/opt/conda/lib/python3.7/site-packages/gpytorch/lazy/triangular_lazy_tensor.py:130: UserWarning: torch.triangular_solve is deprecated in favor of torch.linalg.solve_triangularand will be removed in a future PyTorch release.\n",
      "torch.linalg.solve_triangular has its arguments reversed and does not return a copy of one of the inputs.\n",
      "X = torch.triangular_solve(B, A).solution\n",
      "should be replaced with\n",
      "X = torch.linalg.solve_triangular(A, B). (Triggered internally at  /opt/conda/conda-bld/pytorch_1656352464346/work/aten/src/ATen/native/BatchLinearAlgebra.cpp:2183.)\n",
      "  res = torch.triangular_solve(right_tensor, self.evaluate(), upper=self.upper).solution\n",
      "100%|██████████| 36/36 [00:00<00:00, 44.92it/s]\n"
     ]
    },
    {
     "name": "stdout",
     "output_type": "stream",
     "text": [
      "Number of examples to exclude: 80\n",
      "Examples forgetting stats are saved in ../data/rosbank/rosbank_dataset/train_part/rosbank_forgetting/rosbank_forgetting_stats.csv\n",
      "Examples for excluding are saved in ../data/rosbank/rosbank_dataset/train_part/rosbank_forgetting/rosbank_examples_to_be_excluded.txt\n",
      "Corrected labels are saved in ../data/rosbank/rosbank_dataset/train_part/rosbank_targets_corrected_by_forgetting.parquet\n"
     ]
    },
    {
     "name": "stderr",
     "output_type": "stream",
     "text": [
      "/opt/conda/lib/python3.7/site-packages/prcskr/data_loaders/datautils.py:23: UserWarning: The DataFrame has column names of mixed type. They will be converted to strings and not roundtrip correctly.\n",
      "  pa_tab = pa.Table.from_pandas(df)\n"
     ]
    }
   ],
   "source": [
    "features_path = '../data/rosbank/rosbank_dataset/train_part/rosbank_pca_embeddings.parquet'\n",
    "targets_path = '../data/rosbank/rosbank_dataset/train_part/rosbank_targets.parquet'\n",
    "\n",
    "ckpt_resume = '/home/storage/priceseekers/data/rosbank/ckpts/rosbank_notebook_forgetting/epoch: 0360 - acc_score: 0.7693 - recall_score: 0.7652 - roc_auc_score: 0.8533 - pr_auc_score: 0.8778 - loss: 0.4871.ckpt'\n",
    "df_examples_forgetting_info = classifier.filtration_by_forgetting(\n",
    "    features_path=features_path,\n",
    "    targets_path=targets_path,\n",
    "    ckpt_resume=ckpt_resume\n",
    ")"
   ]
  },
  {
   "cell_type": "markdown",
   "metadata": {},
   "source": [
    "DataFrame `df_examples_forgetting_info` includes the following columns: <br>\n",
    "$\\quad$ - <b> example_idx </b> is index of example in the dataset. <br>\n",
    "$\\quad$ - <b> example_name </b> is name of a file containing an examlpe. <br>\n",
    "$\\quad$ - <b> pred_proba </b> is the max probability which predicted by the model for an example. <br>\n",
    "$\\quad$ - <b> uncertainty </b> of the model prediction for an example. <br>\n",
    "$\\quad$ - <b> pred_label </b> is label which predicted the model for an example. <br>\n",
    "$\\quad$ - <b> true_label </b> of an example in the dataset. <br>\n",
    "$\\quad$ - <b> learn_epoch </b> is number of epoch when an example was learned forever. <br>\n",
    "$\\quad$ - <b> forgetting_counts </b> is quantity of forgettings of an example during training. <br>\n",
    "$\\quad$ - <b> is_filtered </b> is indicator which is equal to 1 if an example should be excluded and 0 in the other case. <br>\n",
    "$\\quad$ - <b> corrected_label </b> is a label of an example after label correction. <br>"
   ]
  },
  {
   "cell_type": "code",
   "execution_count": 5,
   "metadata": {},
   "outputs": [
    {
     "data": {
      "text/html": [
       "<div>\n",
       "<style scoped>\n",
       "    .dataframe tbody tr th:only-of-type {\n",
       "        vertical-align: middle;\n",
       "    }\n",
       "\n",
       "    .dataframe tbody tr th {\n",
       "        vertical-align: top;\n",
       "    }\n",
       "\n",
       "    .dataframe thead th {\n",
       "        text-align: right;\n",
       "    }\n",
       "</style>\n",
       "<table border=\"1\" class=\"dataframe\">\n",
       "  <thead>\n",
       "    <tr style=\"text-align: right;\">\n",
       "      <th></th>\n",
       "      <th>example_idx</th>\n",
       "      <th>example_name</th>\n",
       "      <th>pred_proba</th>\n",
       "      <th>uncertainty</th>\n",
       "      <th>pred_label</th>\n",
       "      <th>true_label</th>\n",
       "      <th>learn_epoch</th>\n",
       "      <th>forgetting_counts</th>\n",
       "      <th>is_filtered</th>\n",
       "      <th>corrected_label</th>\n",
       "    </tr>\n",
       "  </thead>\n",
       "  <tbody>\n",
       "    <tr>\n",
       "      <th>0</th>\n",
       "      <td>0</td>\n",
       "      <td>0</td>\n",
       "      <td>0.441099</td>\n",
       "      <td>0.686192</td>\n",
       "      <td>0</td>\n",
       "      <td>0</td>\n",
       "      <td>354</td>\n",
       "      <td>34</td>\n",
       "      <td>0</td>\n",
       "      <td>0</td>\n",
       "    </tr>\n",
       "    <tr>\n",
       "      <th>1</th>\n",
       "      <td>1</td>\n",
       "      <td>1</td>\n",
       "      <td>0.184622</td>\n",
       "      <td>0.478330</td>\n",
       "      <td>0</td>\n",
       "      <td>0</td>\n",
       "      <td>163</td>\n",
       "      <td>14</td>\n",
       "      <td>0</td>\n",
       "      <td>0</td>\n",
       "    </tr>\n",
       "    <tr>\n",
       "      <th>2</th>\n",
       "      <td>2</td>\n",
       "      <td>10</td>\n",
       "      <td>0.168227</td>\n",
       "      <td>0.453064</td>\n",
       "      <td>0</td>\n",
       "      <td>0</td>\n",
       "      <td>11</td>\n",
       "      <td>1</td>\n",
       "      <td>0</td>\n",
       "      <td>0</td>\n",
       "    </tr>\n",
       "    <tr>\n",
       "      <th>3</th>\n",
       "      <td>3</td>\n",
       "      <td>10001</td>\n",
       "      <td>0.442807</td>\n",
       "      <td>0.686591</td>\n",
       "      <td>0</td>\n",
       "      <td>0</td>\n",
       "      <td>315</td>\n",
       "      <td>35</td>\n",
       "      <td>0</td>\n",
       "      <td>0</td>\n",
       "    </tr>\n",
       "    <tr>\n",
       "      <th>4</th>\n",
       "      <td>4</td>\n",
       "      <td>10004</td>\n",
       "      <td>0.141464</td>\n",
       "      <td>0.407613</td>\n",
       "      <td>0</td>\n",
       "      <td>0</td>\n",
       "      <td>10</td>\n",
       "      <td>1</td>\n",
       "      <td>0</td>\n",
       "      <td>0</td>\n",
       "    </tr>\n",
       "    <tr>\n",
       "      <th>...</th>\n",
       "      <td>...</td>\n",
       "      <td>...</td>\n",
       "      <td>...</td>\n",
       "      <td>...</td>\n",
       "      <td>...</td>\n",
       "      <td>...</td>\n",
       "      <td>...</td>\n",
       "      <td>...</td>\n",
       "      <td>...</td>\n",
       "      <td>...</td>\n",
       "    </tr>\n",
       "    <tr>\n",
       "      <th>4495</th>\n",
       "      <td>4495</td>\n",
       "      <td>9989</td>\n",
       "      <td>0.774664</td>\n",
       "      <td>0.533579</td>\n",
       "      <td>1</td>\n",
       "      <td>1</td>\n",
       "      <td>143</td>\n",
       "      <td>15</td>\n",
       "      <td>0</td>\n",
       "      <td>1</td>\n",
       "    </tr>\n",
       "    <tr>\n",
       "      <th>4496</th>\n",
       "      <td>4496</td>\n",
       "      <td>9991</td>\n",
       "      <td>0.805375</td>\n",
       "      <td>0.492860</td>\n",
       "      <td>1</td>\n",
       "      <td>1</td>\n",
       "      <td>21</td>\n",
       "      <td>3</td>\n",
       "      <td>0</td>\n",
       "      <td>1</td>\n",
       "    </tr>\n",
       "    <tr>\n",
       "      <th>4497</th>\n",
       "      <td>4497</td>\n",
       "      <td>9992</td>\n",
       "      <td>0.340345</td>\n",
       "      <td>0.641264</td>\n",
       "      <td>0</td>\n",
       "      <td>0</td>\n",
       "      <td>12</td>\n",
       "      <td>0</td>\n",
       "      <td>0</td>\n",
       "      <td>0</td>\n",
       "    </tr>\n",
       "    <tr>\n",
       "      <th>4498</th>\n",
       "      <td>4498</td>\n",
       "      <td>9995</td>\n",
       "      <td>0.356540</td>\n",
       "      <td>0.651401</td>\n",
       "      <td>0</td>\n",
       "      <td>0</td>\n",
       "      <td>14</td>\n",
       "      <td>2</td>\n",
       "      <td>0</td>\n",
       "      <td>0</td>\n",
       "    </tr>\n",
       "    <tr>\n",
       "      <th>4499</th>\n",
       "      <td>4499</td>\n",
       "      <td>9998</td>\n",
       "      <td>0.683334</td>\n",
       "      <td>0.624331</td>\n",
       "      <td>1</td>\n",
       "      <td>0</td>\n",
       "      <td>361</td>\n",
       "      <td>13</td>\n",
       "      <td>0</td>\n",
       "      <td>0</td>\n",
       "    </tr>\n",
       "  </tbody>\n",
       "</table>\n",
       "<p>4500 rows × 10 columns</p>\n",
       "</div>"
      ],
      "text/plain": [
       "      example_idx example_name  pred_proba  uncertainty  pred_label  \\\n",
       "0               0            0    0.441099     0.686192           0   \n",
       "1               1            1    0.184622     0.478330           0   \n",
       "2               2           10    0.168227     0.453064           0   \n",
       "3               3        10001    0.442807     0.686591           0   \n",
       "4               4        10004    0.141464     0.407613           0   \n",
       "...           ...          ...         ...          ...         ...   \n",
       "4495         4495         9989    0.774664     0.533579           1   \n",
       "4496         4496         9991    0.805375     0.492860           1   \n",
       "4497         4497         9992    0.340345     0.641264           0   \n",
       "4498         4498         9995    0.356540     0.651401           0   \n",
       "4499         4499         9998    0.683334     0.624331           1   \n",
       "\n",
       "      true_label  learn_epoch  forgetting_counts  is_filtered  corrected_label  \n",
       "0              0          354                 34            0                0  \n",
       "1              0          163                 14            0                0  \n",
       "2              0           11                  1            0                0  \n",
       "3              0          315                 35            0                0  \n",
       "4              0           10                  1            0                0  \n",
       "...          ...          ...                ...          ...              ...  \n",
       "4495           1          143                 15            0                1  \n",
       "4496           1           21                  3            0                1  \n",
       "4497           0           12                  0            0                0  \n",
       "4498           0           14                  2            0                0  \n",
       "4499           0          361                 13            0                0  \n",
       "\n",
       "[4500 rows x 10 columns]"
      ]
     },
     "execution_count": 5,
     "metadata": {},
     "output_type": "execute_result"
    }
   ],
   "source": [
    "df_examples_forgetting_info"
   ]
  },
  {
   "cell_type": "markdown",
   "metadata": {},
   "source": [
    "Using this dataframe we can count a quantity of examples with the same <b>forgetting_counts</b> and calculate mean uncertainty among examples with the same <b>forgetting_counts</b>."
   ]
  },
  {
   "cell_type": "code",
   "execution_count": 8,
   "metadata": {},
   "outputs": [
    {
     "data": {
      "image/png": "[encoded data removed]",
      "text/plain": [
       "<Figure size 2160x432 with 1 Axes>"
      ]
     },
     "metadata": {
      "needs_background": "light"
     },
     "output_type": "display_data"
    }
   ],
   "source": [
    "series_for_plot = df_examples_forgetting_info.groupby(by='forgetting_counts')['example_idx'].count()\n",
    "\n",
    "plt.figure(figsize=(30, 6))\n",
    "x_axis = [str(item) for item in series_for_plot.index]\n",
    "y_axis = series_for_plot.values\n",
    "plt.bar(x_axis, y_axis)\n",
    "plt.title('Number of examples for each forgetting_counts')\n",
    "plt.xlabel('forgetting_counts')\n",
    "plt.ylabel('Number of examples')\n",
    "plt.show()"
   ]
  },
  {
   "cell_type": "markdown",
   "metadata": {},
   "source": [
    "#### 3.2 Training the model on the filtered dataset"
   ]
  },
  {
   "cell_type": "markdown",
   "metadata": {},
   "source": [
    "Since we have found examples with noisy labels, we can exclude them from the original dataset to improve model training."
   ]
  },
  {
   "cell_type": "code",
   "execution_count": 13,
   "metadata": {},
   "outputs": [],
   "source": [
    "log_dir = '../data/rosbank/logs'\n",
    "ckpt_dir = '../data/rosbank/ckpts'\n",
    "\n",
    "path_to_dataconf = '../srcprcskr/configs/data/data_config_rosbank_demonstration.yml'\n",
    "path_to_modelconf = '../srcprcskr/configs/models/model_config_rosbank_demonstration.yml'\n",
    "\n",
    "run_name = 'rosbank_notebook_after_forgetting'\n",
    "\n",
    "classifier = FilteredClassifier(\n",
    "    run_name = run_name,\n",
    "    log_dir=log_dir, \n",
    "    ckpt_dir=ckpt_dir,\n",
    "    path_to_dataconf=path_to_dataconf,\n",
    "    path_to_modelconf=path_to_modelconf\n",
    ")"
   ]
  },
  {
   "cell_type": "code",
   "execution_count": null,
   "metadata": {},
   "outputs": [],
   "source": [
    "features_path = '../data/rosbank/rosbank_dataset/train_part/rosbank_pca_embeddings.parquet'\n",
    "targets_path = '../data/rosbank/rosbank_dataset/train_part/rosbank_targets.parquet'\n",
    "\n",
    "split_frac_train_val = 0.9\n",
    "\n",
    "path_to_examples_to_be_excluded= '../data/rosbank/rosbank_dataset/train_part/rosbank_forgetting/rosbank_examples_to_be_excluded.txt'\n",
    "\n",
    "classifier.fit(\n",
    "    features_path=features_path,\n",
    "    targets_path=targets_path,\n",
    "    split_frac_train_val=split_frac_train_val,\n",
    "    path_to_examples_to_be_excluded=path_to_examples_to_be_excluded\n",
    ")"
   ]
  },
  {
   "cell_type": "markdown",
   "metadata": {},
   "source": [
    "```\n",
    "Metrics for the validation dataset:\n",
    "{'acc_score': 0.6583710407239819, 'recall_score': 0.5357142857142857, 'roc_auc_score': 0.6639294403892944, 'pr_auc_score': 0.5989475236182171}\n",
    "```"
   ]
  },
  {
   "cell_type": "code",
   "execution_count": 16,
   "metadata": {},
   "outputs": [
    {
     "name": "stdout",
     "output_type": "stream",
     "text": [
      "random state is specified from config as 10\n"
     ]
    },
    {
     "name": "stderr",
     "output_type": "stream",
     "text": [
      "100%|██████████| 4/4 [00:00<00:00,  9.83it/s]\n"
     ]
    }
   ],
   "source": [
    "features_path = '../data/rosbank/rosbank_dataset/test_part/rosbank_pca_embeddings.parquet'\n",
    "targets_path = '../data/rosbank/rosbank_dataset/test_part/rosbank_targets.parquet'\n",
    "ckpt_resume = '../data/rosbank/ckpts/rosbank_notebook_after_forgetting_fit/epoch: 0097 - acc_score: 0.6878 - recall_score: 0.494 - roc_auc_score: 0.6794 - pr_auc_score: 0.6467 - loss: 0.5258.ckpt'\n",
    "preds_proba, uncertainties, file_names, true_labels = classifier.predict(\n",
    "    features_path=features_path,\n",
    "    targets_path=targets_path,\n",
    "    ckpt_resume=ckpt_resume\n",
    ")"
   ]
  },
  {
   "cell_type": "code",
   "execution_count": 17,
   "metadata": {},
   "outputs": [
    {
     "name": "stdout",
     "output_type": "stream",
     "text": [
      "acc: 0.700, recall: 0.710, roc_auc: 0.655, precision_recall 0.779\n"
     ]
    }
   ],
   "source": [
    "preds_labels = np.argmax(preds_proba, axis=1)\n",
    "preds_proba_pos = np.max(preds_proba, axis=1)\n",
    "\n",
    "acc_eval = accuracy_score(true_labels, preds_labels)\n",
    "recall_eval = recall_score(true_labels, preds_labels)\n",
    "rocauc_eval = roc_auc_score(true_labels, preds_proba_pos)\n",
    "\n",
    "precision_eval, recall_evall, _ = precision_recall_curve(true_labels, preds_proba_pos)\n",
    "pr_recall_auc = auc(recall_evall, precision_eval)\n",
    "\n",
    "print(f'acc: {acc_eval:.3f}, recall: {recall_eval:.3f}, roc_auc: {rocauc_eval:.3f}, precision_recall {pr_recall_auc:.3f}')"
   ]
  },
  {
   "cell_type": "markdown",
   "metadata": {},
   "source": [
    "We can see that the metrics are slightly improved in comparison with the previous section, when the filtration was not applied."
   ]
  },
  {
   "cell_type": "markdown",
   "metadata": {},
   "source": [
    "#### 3.3 Training the model on the dataset with corrected labels"
   ]
  },
  {
   "cell_type": "markdown",
   "metadata": {},
   "source": [
    "In the previous case we exclude examples with noisy labels. But we also can change labels of the examples to the opposite."
   ]
  },
  {
   "cell_type": "code",
   "execution_count": null,
   "metadata": {},
   "outputs": [],
   "source": [
    "features_path = '../data/rosbank/rosbank_dataset/train_part/rosbank_pca_embeddings.parquet'\n",
    "targets_path = '../data/rosbank/rosbank_dataset/train_part/rosbank_targets_corrected_by_forgetting.parquet'\n",
    "\n",
    "split_frac_train_val = 0.9\n",
    "\n",
    "path_to_examples_to_be_excluded= None\n",
    "\n",
    "classifier.fit(\n",
    "    features_path=features_path,\n",
    "    targets_path=targets_path,\n",
    "    split_frac_train_val=split_frac_train_val,\n",
    "    path_to_examples_to_be_excluded=path_to_examples_to_be_excluded\n",
    ")"
   ]
  },
  {
   "cell_type": "markdown",
   "metadata": {},
   "source": [
    "```\n",
    "Metrics for the validation dataset:\n",
    "{'acc_score': 0.6755555555555556, 'recall_score': 0.49707602339181284, 'roc_auc_score': 0.6766018990127649, 'pr_auc_score': 0.6263341126360764}\n",
    "```"
   ]
  },
  {
   "cell_type": "code",
   "execution_count": 19,
   "metadata": {},
   "outputs": [
    {
     "name": "stdout",
     "output_type": "stream",
     "text": [
      "random state is specified from config as 10\n"
     ]
    },
    {
     "name": "stderr",
     "output_type": "stream",
     "text": [
      "100%|██████████| 4/4 [00:00<00:00, 11.50it/s]\n"
     ]
    }
   ],
   "source": [
    "features_path = '../data/rosbank/rosbank_dataset/test_part/rosbank_pca_embeddings.parquet'\n",
    "targets_path = '../data/rosbank/rosbank_dataset/test_part/rosbank_targets.parquet'\n",
    "ckpt_resume = '../data/rosbank/ckpts/rosbank_notebook_after_forgetting_fit/epoch: 0286 - acc_score: 0.6822 - recall_score: 0.4737 - roc_auc_score: 0.6853 - pr_auc_score: 0.6439 - loss: 0.4612.ckpt'\n",
    "preds_proba, uncertainties, file_names, true_labels = classifier.predict(\n",
    "    features_path=features_path,\n",
    "    targets_path=targets_path,\n",
    "    ckpt_resume=ckpt_resume\n",
    ")"
   ]
  },
  {
   "cell_type": "code",
   "execution_count": 20,
   "metadata": {},
   "outputs": [
    {
     "name": "stdout",
     "output_type": "stream",
     "text": [
      "acc: 0.686, recall: 0.693, roc_auc: 0.629, precision_recall 0.755\n"
     ]
    }
   ],
   "source": [
    "preds_labels = np.argmax(preds_proba, axis=1)\n",
    "preds_proba_pos = np.max(preds_proba, axis=1)\n",
    "\n",
    "acc_eval = accuracy_score(true_labels, preds_labels)\n",
    "recall_eval = recall_score(true_labels, preds_labels)\n",
    "rocauc_eval = roc_auc_score(true_labels, preds_proba_pos)\n",
    "\n",
    "precision_eval, recall_evall, _ = precision_recall_curve(true_labels, preds_proba_pos)\n",
    "pr_recall_auc = auc(recall_evall, precision_eval)\n",
    "\n",
    "print(f'acc: {acc_eval:.3f}, recall: {recall_eval:.3f}, roc_auc: {rocauc_eval:.3f}, precision_recall {pr_recall_auc:.3f}')"
   ]
  },
  {
   "cell_type": "markdown",
   "metadata": {},
   "source": [
    "Training with corrected labels does not lead to metrics improvement."
   ]
  },
  {
   "cell_type": "markdown",
   "metadata": {},
   "source": [
    "### 4. Filtration the dataset through the second split forgetting method"
   ]
  },
  {
   "cell_type": "markdown",
   "metadata": {},
   "source": [
    "#### 4.1 Search examples for excluding"
   ]
  },
  {
   "cell_type": "markdown",
   "metadata": {},
   "source": [
    "To find the examples, which are forever forgotten as model training is continued, the `filtration_by_second_forgetting` method is applied.\n",
    "The method includes 4 steps. In the first step, the model is trained on the first half part of the dataset. In the second step, the train of the model is continued on the second part of the dataset. The examples forgotten after one epoch of the second step are marked as noisy. Then the model is trained on the second half part of the dataset from the beggining. In the fourth step, the examples forgotten after one epoch of the model training on the first half of the dataset are marked as noisy. All noisy examples are united and written in in a `.txt` file. Also, the method returns `pd.DataFrame`, which contains epochs when an examples was forggoten forever at the second and fourh steps, as well as the predictions given by the trained model for these steps."
   ]
  },
  {
   "cell_type": "code",
   "execution_count": 21,
   "metadata": {},
   "outputs": [],
   "source": [
    "log_dir = '../data/rosbank/logs'\n",
    "ckpt_dir = '../data/rosbank/ckpts'\n",
    "\n",
    "path_to_dataconf = '../srcprcskr/configs/data/data_config_rosbank_demonstration.yml'\n",
    "path_to_modelconf = '../srcprcskr/configs/models/model_config_rosbank_demonstration.yml'\n",
    "\n",
    "run_name = 'rosbank_notebook'\n",
    "\n",
    "classifier = FilteredClassifier(\n",
    "    run_name = run_name,\n",
    "    log_dir=log_dir, \n",
    "    ckpt_dir=ckpt_dir,\n",
    "    path_to_dataconf=path_to_dataconf,\n",
    "    path_to_modelconf=path_to_modelconf\n",
    ")"
   ]
  },
  {
   "cell_type": "code",
   "execution_count": null,
   "metadata": {},
   "outputs": [],
   "source": [
    "features_path = '../data/rosbank/rosbank_dataset/train_part/rosbank_pca_embeddings.parquet'\n",
    "targets_path = '../data/rosbank/rosbank_dataset/train_part/rosbank_targets.parquet'\n",
    "df_examples_secondforgetting_info = classifier.filtration_by_second_split_forgetting(\n",
    "    features_path=features_path,\n",
    "    targets_path=targets_path\n",
    ")"
   ]
  },
  {
   "cell_type": "markdown",
   "metadata": {},
   "source": [
    "```\n",
    "Number of examples to exclude: 382\n",
    "Examples forgetting stats are saved in ../data/rosbank/rosbank_dataset/train_part/rosbank_secondsplit_forgetting/rosbank_secondsplit_forgetting_stats.csv\n",
    "Examples for excluding are saved in ../data/rosbank/rosbank_dataset/train_part/rosbank_secondsplit_forgetting/rosbank_examples_to_be_excluded.txt\n",
    "Corrected labels are saved in ../data/rosbank/rosbank_dataset/train_part/rosbank_targets_corrected_by_secondsplit_forgetting.parquet\n",
    "```"
   ]
  },
  {
   "cell_type": "markdown",
   "metadata": {},
   "source": [
    "DataFrame df_examples_secondforgetting_info includes the following columns: <br>\n",
    "$\\quad$ - <b> example_idx </b> is an index of an example in the dataset. <br>\n",
    "$\\quad$ - <b> example_name </b> is name of a file containing an examlpe <br>\n",
    "$\\quad$ - <b> pred_proba </b> is the max probability which predicted by the model for an example<br>\n",
    "$\\quad$ - <b> uncertainty </b> of a model prediction for an example <br>\n",
    "$\\quad$ - <b> pred_label </b> is a label which predicted the model for an example <br>\n",
    "$\\quad$ - <b> true_label </b> of an example in the dataset <br>\n",
    "$\\quad$ - <b> epoch_forget_forever </b> is the number of an epoch when an example was forgotten forever <br>\n",
    "$\\quad$ - <b> is_filtered </b> is an indicator which is equal to 1 if an example should be excluded and 0 in the other case <br>\n",
    "$\\quad$ - <b> corrected_label </b> is a label of an example after label correction <br>"
   ]
  },
  {
   "cell_type": "code",
   "execution_count": 23,
   "metadata": {},
   "outputs": [
    {
     "data": {
      "text/html": [
       "<div>\n",
       "<style scoped>\n",
       "    .dataframe tbody tr th:only-of-type {\n",
       "        vertical-align: middle;\n",
       "    }\n",
       "\n",
       "    .dataframe tbody tr th {\n",
       "        vertical-align: top;\n",
       "    }\n",
       "\n",
       "    .dataframe thead th {\n",
       "        text-align: right;\n",
       "    }\n",
       "</style>\n",
       "<table border=\"1\" class=\"dataframe\">\n",
       "  <thead>\n",
       "    <tr style=\"text-align: right;\">\n",
       "      <th></th>\n",
       "      <th>example_idx</th>\n",
       "      <th>example_name</th>\n",
       "      <th>pred_proba</th>\n",
       "      <th>uncertainty</th>\n",
       "      <th>pred_label</th>\n",
       "      <th>true_label</th>\n",
       "      <th>epoch_forget_forever</th>\n",
       "      <th>is_filtered</th>\n",
       "      <th>corrected_label</th>\n",
       "    </tr>\n",
       "  </thead>\n",
       "  <tbody>\n",
       "    <tr>\n",
       "      <th>0</th>\n",
       "      <td>0</td>\n",
       "      <td>0</td>\n",
       "      <td>0.298667</td>\n",
       "      <td>0.609730</td>\n",
       "      <td>0</td>\n",
       "      <td>0</td>\n",
       "      <td>361</td>\n",
       "      <td>0</td>\n",
       "      <td>0</td>\n",
       "    </tr>\n",
       "    <tr>\n",
       "      <th>1</th>\n",
       "      <td>1</td>\n",
       "      <td>1</td>\n",
       "      <td>0.052969</td>\n",
       "      <td>0.207166</td>\n",
       "      <td>0</td>\n",
       "      <td>0</td>\n",
       "      <td>361</td>\n",
       "      <td>0</td>\n",
       "      <td>0</td>\n",
       "    </tr>\n",
       "    <tr>\n",
       "      <th>2</th>\n",
       "      <td>2</td>\n",
       "      <td>10</td>\n",
       "      <td>0.097542</td>\n",
       "      <td>0.319649</td>\n",
       "      <td>0</td>\n",
       "      <td>0</td>\n",
       "      <td>361</td>\n",
       "      <td>0</td>\n",
       "      <td>0</td>\n",
       "    </tr>\n",
       "    <tr>\n",
       "      <th>3</th>\n",
       "      <td>3</td>\n",
       "      <td>10001</td>\n",
       "      <td>0.199534</td>\n",
       "      <td>0.499756</td>\n",
       "      <td>0</td>\n",
       "      <td>0</td>\n",
       "      <td>361</td>\n",
       "      <td>0</td>\n",
       "      <td>0</td>\n",
       "    </tr>\n",
       "    <tr>\n",
       "      <th>4</th>\n",
       "      <td>4</td>\n",
       "      <td>10004</td>\n",
       "      <td>0.051283</td>\n",
       "      <td>0.202277</td>\n",
       "      <td>0</td>\n",
       "      <td>0</td>\n",
       "      <td>361</td>\n",
       "      <td>0</td>\n",
       "      <td>0</td>\n",
       "    </tr>\n",
       "    <tr>\n",
       "      <th>...</th>\n",
       "      <td>...</td>\n",
       "      <td>...</td>\n",
       "      <td>...</td>\n",
       "      <td>...</td>\n",
       "      <td>...</td>\n",
       "      <td>...</td>\n",
       "      <td>...</td>\n",
       "      <td>...</td>\n",
       "      <td>...</td>\n",
       "    </tr>\n",
       "    <tr>\n",
       "      <th>4495</th>\n",
       "      <td>2245</td>\n",
       "      <td>9989</td>\n",
       "      <td>0.921199</td>\n",
       "      <td>0.275832</td>\n",
       "      <td>1</td>\n",
       "      <td>1</td>\n",
       "      <td>361</td>\n",
       "      <td>0</td>\n",
       "      <td>1</td>\n",
       "    </tr>\n",
       "    <tr>\n",
       "      <th>4496</th>\n",
       "      <td>2246</td>\n",
       "      <td>9991</td>\n",
       "      <td>0.709318</td>\n",
       "      <td>0.602762</td>\n",
       "      <td>1</td>\n",
       "      <td>1</td>\n",
       "      <td>361</td>\n",
       "      <td>0</td>\n",
       "      <td>1</td>\n",
       "    </tr>\n",
       "    <tr>\n",
       "      <th>4497</th>\n",
       "      <td>2247</td>\n",
       "      <td>9992</td>\n",
       "      <td>0.182403</td>\n",
       "      <td>0.475018</td>\n",
       "      <td>0</td>\n",
       "      <td>0</td>\n",
       "      <td>361</td>\n",
       "      <td>0</td>\n",
       "      <td>0</td>\n",
       "    </tr>\n",
       "    <tr>\n",
       "      <th>4498</th>\n",
       "      <td>2248</td>\n",
       "      <td>9995</td>\n",
       "      <td>0.381719</td>\n",
       "      <td>0.664899</td>\n",
       "      <td>0</td>\n",
       "      <td>0</td>\n",
       "      <td>361</td>\n",
       "      <td>0</td>\n",
       "      <td>0</td>\n",
       "    </tr>\n",
       "    <tr>\n",
       "      <th>4499</th>\n",
       "      <td>2249</td>\n",
       "      <td>9998</td>\n",
       "      <td>0.788694</td>\n",
       "      <td>0.515682</td>\n",
       "      <td>1</td>\n",
       "      <td>0</td>\n",
       "      <td>15</td>\n",
       "      <td>0</td>\n",
       "      <td>0</td>\n",
       "    </tr>\n",
       "  </tbody>\n",
       "</table>\n",
       "<p>4500 rows × 9 columns</p>\n",
       "</div>"
      ],
      "text/plain": [
       "      example_idx example_name  pred_proba  uncertainty  pred_label  \\\n",
       "0               0            0    0.298667     0.609730           0   \n",
       "1               1            1    0.052969     0.207166           0   \n",
       "2               2           10    0.097542     0.319649           0   \n",
       "3               3        10001    0.199534     0.499756           0   \n",
       "4               4        10004    0.051283     0.202277           0   \n",
       "...           ...          ...         ...          ...         ...   \n",
       "4495         2245         9989    0.921199     0.275832           1   \n",
       "4496         2246         9991    0.709318     0.602762           1   \n",
       "4497         2247         9992    0.182403     0.475018           0   \n",
       "4498         2248         9995    0.381719     0.664899           0   \n",
       "4499         2249         9998    0.788694     0.515682           1   \n",
       "\n",
       "      true_label  epoch_forget_forever  is_filtered  corrected_label  \n",
       "0              0                   361            0                0  \n",
       "1              0                   361            0                0  \n",
       "2              0                   361            0                0  \n",
       "3              0                   361            0                0  \n",
       "4              0                   361            0                0  \n",
       "...          ...                   ...          ...              ...  \n",
       "4495           1                   361            0                1  \n",
       "4496           1                   361            0                1  \n",
       "4497           0                   361            0                0  \n",
       "4498           0                   361            0                0  \n",
       "4499           0                    15            0                0  \n",
       "\n",
       "[4500 rows x 9 columns]"
      ]
     },
     "execution_count": 23,
     "metadata": {},
     "output_type": "execute_result"
    }
   ],
   "source": [
    "df_examples_secondforgetting_info"
   ]
  },
  {
   "cell_type": "markdown",
   "metadata": {},
   "source": [
    "Using this dataframe we can count a quantity of examples with the same <b>epoch_forget_forever</b> and calculate mean uncertainty among examples with the same <b>epoch_forget_forever</b>."
   ]
  },
  {
   "cell_type": "code",
   "execution_count": 24,
   "metadata": {},
   "outputs": [
    {
     "data": {
      "image/png": "[encoded data removed]",
      "text/plain": [
       "<Figure size 1584x432 with 1 Axes>"
      ]
     },
     "metadata": {
      "needs_background": "light"
     },
     "output_type": "display_data"
    }
   ],
   "source": [
    "series_for_plot = df_examples_secondforgetting_info.groupby(by='epoch_forget_forever')['example_idx'].count()\n",
    "\n",
    "plt.figure(figsize=(22, 6))\n",
    "x_axis = [str(item) for item in series_for_plot.index]\n",
    "y_axis = series_for_plot.values\n",
    "plt.bar(x_axis, y_axis)\n",
    "plt.title('Number of examples for each epoch_forget_forever')\n",
    "plt.xlabel('epoch_forget_forever')\n",
    "plt.ylabel('Number of examples')\n",
    "plt.show()"
   ]
  },
  {
   "cell_type": "code",
   "execution_count": 25,
   "metadata": {},
   "outputs": [
    {
     "data": {
      "image/png": "[encoded data removed]",
      "text/plain": [
       "<Figure size 1728x432 with 1 Axes>"
      ]
     },
     "metadata": {
      "needs_background": "light"
     },
     "output_type": "display_data"
    }
   ],
   "source": [
    "series_for_plot = df_examples_secondforgetting_info.groupby(by='epoch_forget_forever')['uncertainty'].mean()\n",
    "\n",
    "plt.figure(figsize=(24, 6))\n",
    "x_axis = [str(item) for item in series_for_plot.index]\n",
    "y_axis = series_for_plot.values\n",
    "plt.bar(x_axis, y_axis)\n",
    "plt.title('Mean entropy of examples for each epoch_forget_forever')\n",
    "plt.xlabel('epoch_forget_forever')\n",
    "plt.ylabel('Number of examples')\n",
    "plt.show()"
   ]
  },
  {
   "cell_type": "markdown",
   "metadata": {},
   "source": [
    "As in the previous section, we can load masks for computting forgetting values from a `*.ckpt` file."
   ]
  },
  {
   "cell_type": "code",
   "execution_count": 12,
   "metadata": {},
   "outputs": [
    {
     "name": "stdout",
     "output_type": "stream",
     "text": [
      "random state is specified from config as 10\n",
      "total epochs is specified from config as 50\n",
      "lr is specified from config as 0.0005\n"
     ]
    },
    {
     "name": "stderr",
     "output_type": "stream",
     "text": [
      "100%|██████████| 18/18 [00:00<00:00, 28.03it/s]\n",
      "100%|██████████| 18/18 [00:00<00:00, 31.56it/s]\n"
     ]
    },
    {
     "name": "stdout",
     "output_type": "stream",
     "text": [
      "Number of examples to exclude: 44\n",
      "Examples forgetting stats are saved in ../data/rosbank/rosbank_dataset/train_part/rosbank_second_forgetting/rosbank_second_forgetting_stats.csv\n",
      "Examples for excluding are saved in ../data/rosbank/rosbank_dataset/train_part/rosbank_second_forgetting/rosbank_examples_to_be_excluded.txt\n",
      "Corrected labels are saved in ../data/rosbank/rosbank_dataset/train_part/rosbank_targets_corrected_by_secondsplit_forgetting.parquet\n"
     ]
    },
    {
     "name": "stderr",
     "output_type": "stream",
     "text": [
      "/opt/conda/lib/python3.7/site-packages/prcskr/data_loaders/datautils.py:23: UserWarning: The DataFrame has column names of mixed type. They will be converted to strings and not roundtrip correctly.\n",
      "  pa_tab = pa.Table.from_pandas(df)\n"
     ]
    }
   ],
   "source": [
    "features_path = '../data/rosbank/rosbank_dataset/train_part/rosbank_pca_embeddings.parquet'\n",
    "targets_path = '../data/rosbank/rosbank_dataset/train_part/rosbank_targets.parquet'\n",
    "ckpt_resume = '/home/storage/priceseekers/data/rosbank/ckpts/rosbank_notebook_second_forgetting/second_forgetting_step4/epoch: 0100 - acc_score: 0.7129 - roc_auc_score: 0.7795 - pr_auc_score: 0.8804 - loss: 0.572.ckpt'\n",
    "\n",
    "df_examples_secondforgetting_info = classifier.filtration_by_second_split_forgetting(\n",
    "    features_path=features_path,\n",
    "    targets_path=targets_path,\n",
    "    ckpt_resume=ckpt_resume\n",
    ")"
   ]
  },
  {
   "cell_type": "markdown",
   "metadata": {},
   "source": [
    "#### 4.2 Training the model on the filtered dataset"
   ]
  },
  {
   "cell_type": "markdown",
   "metadata": {},
   "source": [
    "After we have found examples with noisy labels, we can train model on the filtered dataset. "
   ]
  },
  {
   "cell_type": "code",
   "execution_count": 26,
   "metadata": {},
   "outputs": [],
   "source": [
    "log_dir = '../data/rosbank/logs'\n",
    "ckpt_dir = '../data/rosbank/ckpts'\n",
    "\n",
    "path_to_dataconf = '../srcprcskr/configs/data/data_config_rosbank_demonstration.yml'\n",
    "path_to_modelconf = '../srcprcskr/configs/models/model_config_rosbank_demonstration.yml'\n",
    "\n",
    "run_name = 'rosbank_notebook_after_secondsplitforgetting'\n",
    "\n",
    "classifier = FilteredClassifier(\n",
    "    run_name = run_name,\n",
    "    log_dir=log_dir, \n",
    "    ckpt_dir=ckpt_dir,\n",
    "    path_to_dataconf=path_to_dataconf,\n",
    "    path_to_modelconf=path_to_modelconf\n",
    ")"
   ]
  },
  {
   "cell_type": "code",
   "execution_count": null,
   "metadata": {},
   "outputs": [],
   "source": [
    "features_path = '../data/rosbank/rosbank_dataset/train_part/rosbank_pca_embeddings.parquet'\n",
    "targets_path = '../data/rosbank/rosbank_dataset/train_part/rosbank_targets.parquet'\n",
    "split_frac_train_val = 0.9\n",
    "path_examples_to_be_excluded = '../data/rosbank/rosbank_dataset/train_part/rosbank_secondsplit_forgetting/rosbank_examples_to_be_excluded.txt'\n",
    "classifier.fit(\n",
    "    features_path=features_path,\n",
    "    targets_path=targets_path,\n",
    "    split_frac_train_val=split_frac_train_val,\n",
    "    path_to_examples_to_be_excluded=path_examples_to_be_excluded\n",
    ")"
   ]
  },
  {
   "cell_type": "markdown",
   "metadata": {},
   "source": [
    "```\n",
    "Metrics for the validation dataset:\n",
    "{'acc_score': 0.7281553398058253, 'recall_score': 0.6176470588235294, 'roc_auc_score': 0.7639599317988065, 'pr_auc_score': 0.6639197991399316}\n",
    "```"
   ]
  },
  {
   "cell_type": "code",
   "execution_count": 28,
   "metadata": {},
   "outputs": [
    {
     "name": "stdout",
     "output_type": "stream",
     "text": [
      "random state is specified from config as 10\n"
     ]
    },
    {
     "name": "stderr",
     "output_type": "stream",
     "text": [
      "100%|██████████| 4/4 [00:00<00:00,  5.97it/s]\n"
     ]
    }
   ],
   "source": [
    "features_path = '../data/rosbank/rosbank_dataset/test_part/rosbank_pca_embeddings.parquet'\n",
    "targets_path = '../data/rosbank/rosbank_dataset/test_part/rosbank_targets.parquet'\n",
    "ckpt_resume = '../data/rosbank/ckpts/rosbank_notebook_after_secondsplitforgetting_fit/epoch: 0158 - acc_score: 0.7306 - recall_score: 0.6103 - roc_auc_score: 0.7435 - pr_auc_score: 0.6777 - loss: 0.4326.ckpt'\n",
    "preds_proba, uncertainties, file_names, true_labels = classifier.predict(\n",
    "    features_path=features_path,\n",
    "    targets_path=targets_path,\n",
    "    ckpt_resume=ckpt_resume\n",
    ")"
   ]
  },
  {
   "cell_type": "code",
   "execution_count": 29,
   "metadata": {},
   "outputs": [
    {
     "name": "stdout",
     "output_type": "stream",
     "text": [
      "acc: 0.710, recall: 0.720, roc_auc: 0.648, precision_recall 0.770\n"
     ]
    }
   ],
   "source": [
    "preds_labels = np.argmax(preds_proba, axis=1)\n",
    "preds_proba_pos = np.max(preds_proba, axis=1)\n",
    "\n",
    "acc_eval = accuracy_score(true_labels, preds_labels)\n",
    "recall_eval = recall_score(true_labels, preds_labels)\n",
    "rocauc_eval = roc_auc_score(true_labels, preds_proba_pos)\n",
    "\n",
    "precision_eval, recall_evall, _ = precision_recall_curve(true_labels, preds_proba_pos)\n",
    "pr_recall_auc = auc(recall_evall, precision_eval)\n",
    "\n",
    "print(f'acc: {acc_eval:.3f}, recall: {recall_eval:.3f}, roc_auc: {rocauc_eval:.3f}, precision_recall {pr_recall_auc:.3f}')"
   ]
  },
  {
   "cell_type": "markdown",
   "metadata": {},
   "source": [
    "We can see, that excluding examples according to the second split frogetting method leads to a signigicant incearse in metrics on the test dataset compared to the metrics obrained after filtration with the forgetting method."
   ]
  },
  {
   "cell_type": "markdown",
   "metadata": {},
   "source": [
    "#### 4.3 Training the model on the dataset with corrected labels"
   ]
  },
  {
   "cell_type": "code",
   "execution_count": null,
   "metadata": {},
   "outputs": [],
   "source": [
    "features_path = '../data/rosbank/rosbank_dataset/train_part/rosbank_pca_embeddings.parquet'\n",
    "targets_path = '../data/rosbank/rosbank_dataset/train_part/rosbank_targets_corrected_by_secondsplit_forgetting.parquet'\n",
    "split_frac_train_val = 0.9\n",
    "path_examples_to_be_excluded = None\n",
    "classifier.fit(\n",
    "    features_path=features_path,\n",
    "    targets_path=targets_path,\n",
    "    split_frac_train_val=split_frac_train_val,\n",
    "    path_to_examples_to_be_excluded=path_examples_to_be_excluded\n",
    ")"
   ]
  },
  {
   "cell_type": "markdown",
   "metadata": {},
   "source": [
    "```\n",
    "Metrics for the validation dataset:\n",
    "{'acc_score': 0.7444444444444445, 'recall_score': 0.5923566878980892, 'roc_auc_score': 0.7783961218234386, 'pr_auc_score': 0.6854811419810235}\n",
    "```"
   ]
  },
  {
   "cell_type": "code",
   "execution_count": 31,
   "metadata": {},
   "outputs": [
    {
     "name": "stdout",
     "output_type": "stream",
     "text": [
      "random state is specified from config as 10\n"
     ]
    },
    {
     "name": "stderr",
     "output_type": "stream",
     "text": [
      "100%|██████████| 4/4 [00:00<00:00, 12.70it/s]\n"
     ]
    }
   ],
   "source": [
    "features_path = '../data/rosbank/rosbank_dataset/test_part/rosbank_pca_embeddings.parquet'\n",
    "targets_path = '../data/rosbank/rosbank_dataset/test_part/rosbank_targets.parquet'\n",
    "ckpt_resume = '../data/rosbank/ckpts/rosbank_notebook_after_secondsplitforgetting_fit/epoch: 0191 - acc_score: 0.7311 - recall_score: 0.6624 - roc_auc_score: 0.7799 - pr_auc_score: 0.7084 - loss: 0.3875.ckpt'\n",
    "preds_proba, uncertainties, file_names, true_labels = classifier.predict(\n",
    "    features_path=features_path,\n",
    "    targets_path=targets_path,\n",
    "    ckpt_resume=ckpt_resume\n",
    ")"
   ]
  },
  {
   "cell_type": "code",
   "execution_count": 32,
   "metadata": {},
   "outputs": [
    {
     "name": "stdout",
     "output_type": "stream",
     "text": [
      "acc: 0.710, recall: 0.758, roc_auc: 0.667, precision_recall 0.771\n"
     ]
    }
   ],
   "source": [
    "preds_labels = np.argmax(preds_proba, axis=1)\n",
    "preds_proba_pos = np.max(preds_proba, axis=1)\n",
    "\n",
    "acc_eval = accuracy_score(true_labels, preds_labels)\n",
    "recall_eval = recall_score(true_labels, preds_labels)\n",
    "rocauc_eval = roc_auc_score(true_labels, preds_proba_pos)\n",
    "\n",
    "precision_eval, recall_evall, _ = precision_recall_curve(true_labels, preds_proba_pos)\n",
    "pr_recall_auc = auc(recall_evall, precision_eval)\n",
    "\n",
    "print(f'acc: {acc_eval:.3f}, recall: {recall_eval:.3f}, roc_auc: {rocauc_eval:.3f}, precision_recall {pr_recall_auc:.3f}')"
   ]
  },
  {
   "cell_type": "markdown",
   "metadata": {},
   "source": [
    "In this case training model on the dataset with corrected labels leads to an increase of the metrics."
   ]
  }
 ],
 "metadata": {
  "kernelspec": {
   "display_name": "base",
   "language": "python",
   "name": "python3"
  },
  "language_info": {
   "codemirror_mode": {
    "name": "ipython",
    "version": 3
   },
   "file_extension": ".py",
   "mimetype": "text/x-python",
   "name": "python",
   "nbconvert_exporter": "python",
   "pygments_lexer": "ipython3",
   "version": "3.7.13"
  }
 },
 "nbformat": 4,
 "nbformat_minor": 2
}
